{
  "nbformat": 4,
  "nbformat_minor": 0,
  "metadata": {
    "colab": {
      "provenance": []
    },
    "kernelspec": {
      "name": "python3",
      "display_name": "Python 3"
    },
    "language_info": {
      "name": "python"
    }
  },
  "cells": [
    {
      "cell_type": "code",
      "execution_count": 25,
      "metadata": {
        "id": "cWP2PFvIOwN7"
      },
      "outputs": [],
      "source": [
        "import pandas as pd\n",
        "import numpy as np\n",
        "from sklearn.cluster import KMeans\n",
        "import matplotlib.pyplot as plt\n",
        "from datetime import datetime, timedelta"
      ]
    },
    {
      "cell_type": "code",
      "source": [
        "\n",
        "# Load the request data into a Pandas dataframe\n",
        "request_data = pd.read_csv(\"request_data.csv\")\n",
        "\n",
        "# Convert the Request Date column to datetime format\n",
        "request_data[\"Request Date\"] = pd.to_datetime(request_data[\"Request Date\"])\n",
        "\n",
        "print(request_data)\n",
        "\n",
        "# Fill the first entry with the average value (to avoid NaN)\n",
        "request_data[\"Days Between Requests\"].fillna(request_data[\"Days Between Requests\"].mean(), inplace=True)\n",
        "\n",
        "print(request_data)\n",
        "\n",
        "# Extract the location data\n",
        "locations = request_data[[\"Latitude\", \"Longitude\"]].values\n",
        "\n",
        "# Fit the KMeans model to the location data\n",
        "kmeans = KMeans(n_clusters=5, random_state=0).fit(locations)\n",
        "\n",
        "# Predict the cluster for each location\n",
        "request_data[\"Cluster\"] = kmeans.predict(locations)\n",
        "\n",
        "# Calculate the average number of days between requests for each cluster\n",
        "cluster_averages = request_data.groupby(\"Cluster\").mean()[\"Days Between Requests\"]\n",
        "\n",
        "# Plot the number of days between requests for each cluster\n",
        "plt.bar(cluster_averages.index, cluster_averages.values)\n",
        "plt.xlabel(\"Cluster\")\n",
        "plt.ylabel(\"Average Number of Days Between Requests\")\n",
        "plt.show()\n"
      ],
      "metadata": {
        "colab": {
          "base_uri": "https://localhost:8080/",
          "height": 792
        },
        "id": "ptiCqOGNOzo3",
        "outputId": "bc7ace80-f019-47a6-d9de-d935390f697d"
      },
      "execution_count": 32,
      "outputs": [
        {
          "output_type": "stream",
          "name": "stdout",
          "text": [
            "      Latitude   Longitude Request Date  Days Between Requests\n",
            "0    43.199150  150.827586   2022-04-15                      1\n",
            "1    52.951336 -114.673991   2022-03-05                      3\n",
            "2    21.528403  -80.666652   2022-01-04                      2\n",
            "3     3.594849 -107.295417   2022-12-10                      8\n",
            "4    68.542979 -137.791636   2022-08-04                      3\n",
            "..         ...         ...          ...                    ...\n",
            "995  35.945050   89.003167   2022-11-19                      1\n",
            "996 -19.528862  167.496938   2022-05-30                      7\n",
            "997  64.429800  -72.770825   2022-01-26                      4\n",
            "998  -8.836256 -150.478347   2022-10-10                      9\n",
            "999  56.541949    9.014297   2022-08-24                      2\n",
            "\n",
            "[1000 rows x 4 columns]\n",
            "      Latitude   Longitude Request Date  Days Between Requests\n",
            "0    43.199150  150.827586   2022-04-15                      1\n",
            "1    52.951336 -114.673991   2022-03-05                      3\n",
            "2    21.528403  -80.666652   2022-01-04                      2\n",
            "3     3.594849 -107.295417   2022-12-10                      8\n",
            "4    68.542979 -137.791636   2022-08-04                      3\n",
            "..         ...         ...          ...                    ...\n",
            "995  35.945050   89.003167   2022-11-19                      1\n",
            "996 -19.528862  167.496938   2022-05-30                      7\n",
            "997  64.429800  -72.770825   2022-01-26                      4\n",
            "998  -8.836256 -150.478347   2022-10-10                      9\n",
            "999  56.541949    9.014297   2022-08-24                      2\n",
            "\n",
            "[1000 rows x 4 columns]\n"
          ]
        },
        {
          "output_type": "display_data",
          "data": {
            "text/plain": [
              "<Figure size 432x288 with 1 Axes>"
            ],
            "image/png": "[encoded data removed]"
          },
          "metadata": {
            "needs_background": "light"
          }
        }
      ]
    },
    {
      "cell_type": "code",
      "source": [
        "import pickle\n",
        "# Save the model\n",
        "filename = 'days_between_requests_model.pkl'\n",
        "pickle.dump(kmeans, open(filename, 'wb'))"
      ],
      "metadata": {
        "id": "LVpkx5gPO4b_"
      },
      "execution_count": 33,
      "outputs": []
    },
    {
      "cell_type": "code",
      "source": [
        "with open(\"cluster_averages.pkl\", \"wb\") as f:\n",
        "    pickle.dump(cluster_averages, f)"
      ],
      "metadata": {
        "id": "0t5VyVe1TOAH"
      },
      "execution_count": 34,
      "outputs": []
    },
    {
      "cell_type": "code",
      "source": [
        "cluster_averages"
      ],
      "metadata": {
        "colab": {
          "base_uri": "https://localhost:8080/"
        },
        "id": "Vph88TrUa33Y",
        "outputId": "53e0eff5-6c08-4ac9-cb2b-587e3dd18a5c"
      },
      "execution_count": 35,
      "outputs": [
        {
          "output_type": "execute_result",
          "data": {
            "text/plain": [
              "Cluster\n",
              "0    5.145946\n",
              "1    4.798283\n",
              "2    4.794393\n",
              "3    4.896373\n",
              "4    4.742857\n",
              "Name: Days Between Requests, dtype: float64"
            ]
          },
          "metadata": {},
          "execution_count": 35
        }
      ]
    },
    {
      "cell_type": "code",
      "source": [],
      "metadata": {
        "id": "o8L_NKIdevAD"
      },
      "execution_count": null,
      "outputs": []
    }
  ]
}